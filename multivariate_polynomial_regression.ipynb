{
 "cells": [
  {
   "cell_type": "markdown",
   "metadata": {},
   "source": [
    "## 1. Importing Required Libraries"
   ]
  },
  {
   "cell_type": "code",
   "execution_count": 1,
   "metadata": {},
   "outputs": [],
   "source": [
    "import pandas as pd #For reading csv file (comma separated values)\n",
    "import numpy as np #For calculations and mathematical functions on arrays and matrices\n",
    "\n",
    "from sklearn.linear_model import LinearRegression \n",
    "from sklearn.preprocessing import PolynomialFeatures"
   ]
  },
  {
   "cell_type": "markdown",
   "metadata": {},
   "source": [
    "To know about above libraries, check out their documentation:\n",
    "1. https://scikit-learn.org/stable/modules/generated/sklearn.linear_model.LinearRegression.html\n",
    "2. https://scikit-learn.org/stable/modules/generated/sklearn.preprocessing.PolynomialFeatures.html"
   ]
  },
  {
   "cell_type": "markdown",
   "metadata": {},
   "source": [
    "## 2. Reading Data and PreProcessing\n",
    "\n",
    "Using pandas to read \"data.csv\" file (Note that this file should be in same folder as python file is!!)"
   ]
  },
  {
   "cell_type": "code",
   "execution_count": 11,
   "metadata": {},
   "outputs": [],
   "source": [
    "df = pd.read_csv(\"data.csv\") "
   ]
  },
  {
   "cell_type": "code",
   "execution_count": 12,
   "metadata": {},
   "outputs": [
    {
     "data": {
      "text/html": [
       "<div>\n",
       "<style scoped>\n",
       "    .dataframe tbody tr th:only-of-type {\n",
       "        vertical-align: middle;\n",
       "    }\n",
       "\n",
       "    .dataframe tbody tr th {\n",
       "        vertical-align: top;\n",
       "    }\n",
       "\n",
       "    .dataframe thead th {\n",
       "        text-align: right;\n",
       "    }\n",
       "</style>\n",
       "<table border=\"1\" class=\"dataframe\">\n",
       "  <thead>\n",
       "    <tr style=\"text-align: right;\">\n",
       "      <th></th>\n",
       "      <th>ethanol</th>\n",
       "      <th>water</th>\n",
       "      <th>e'</th>\n",
       "      <th>e''</th>\n",
       "      <th>permittivity</th>\n",
       "      <th>loss tangent</th>\n",
       "      <th>bulk conductivity</th>\n",
       "      <th>mass density</th>\n",
       "      <th>resonance frequency</th>\n",
       "      <th>f2</th>\n",
       "      <th>f1</th>\n",
       "      <th>3dB bandwidth</th>\n",
       "      <th>Q factor</th>\n",
       "    </tr>\n",
       "  </thead>\n",
       "  <tbody>\n",
       "    <tr>\n",
       "      <th>0</th>\n",
       "      <td>0</td>\n",
       "      <td>100</td>\n",
       "      <td>78</td>\n",
       "      <td>7.5</td>\n",
       "      <td>78.3597</td>\n",
       "      <td>0.09615</td>\n",
       "      <td>0.00200</td>\n",
       "      <td>997.0</td>\n",
       "      <td>1.9620</td>\n",
       "      <td>1.9855</td>\n",
       "      <td>1.9381</td>\n",
       "      <td>0.0474</td>\n",
       "      <td>41.392405</td>\n",
       "    </tr>\n",
       "    <tr>\n",
       "      <th>1</th>\n",
       "      <td>10</td>\n",
       "      <td>90</td>\n",
       "      <td>73</td>\n",
       "      <td>9.0</td>\n",
       "      <td>73.5527</td>\n",
       "      <td>0.12330</td>\n",
       "      <td>0.00018</td>\n",
       "      <td>976.2</td>\n",
       "      <td>1.9627</td>\n",
       "      <td>1.9874</td>\n",
       "      <td>1.9381</td>\n",
       "      <td>0.0493</td>\n",
       "      <td>39.811359</td>\n",
       "    </tr>\n",
       "    <tr>\n",
       "      <th>2</th>\n",
       "      <td>20</td>\n",
       "      <td>80</td>\n",
       "      <td>66</td>\n",
       "      <td>12.0</td>\n",
       "      <td>67.0820</td>\n",
       "      <td>0.18180</td>\n",
       "      <td>0.00016</td>\n",
       "      <td>955.4</td>\n",
       "      <td>1.9650</td>\n",
       "      <td>1.9898</td>\n",
       "      <td>1.9372</td>\n",
       "      <td>0.0526</td>\n",
       "      <td>37.357414</td>\n",
       "    </tr>\n",
       "    <tr>\n",
       "      <th>3</th>\n",
       "      <td>30</td>\n",
       "      <td>70</td>\n",
       "      <td>61</td>\n",
       "      <td>13.5</td>\n",
       "      <td>62.4760</td>\n",
       "      <td>0.22130</td>\n",
       "      <td>0.00014</td>\n",
       "      <td>934.6</td>\n",
       "      <td>1.9660</td>\n",
       "      <td>1.9938</td>\n",
       "      <td>1.9387</td>\n",
       "      <td>0.0551</td>\n",
       "      <td>35.680581</td>\n",
       "    </tr>\n",
       "    <tr>\n",
       "      <th>4</th>\n",
       "      <td>40</td>\n",
       "      <td>60</td>\n",
       "      <td>53</td>\n",
       "      <td>14.0</td>\n",
       "      <td>54.8170</td>\n",
       "      <td>0.26410</td>\n",
       "      <td>0.00012</td>\n",
       "      <td>913.8</td>\n",
       "      <td>1.9700</td>\n",
       "      <td>1.9977</td>\n",
       "      <td>1.9401</td>\n",
       "      <td>0.0576</td>\n",
       "      <td>34.201389</td>\n",
       "    </tr>\n",
       "    <tr>\n",
       "      <th>5</th>\n",
       "      <td>50</td>\n",
       "      <td>50</td>\n",
       "      <td>45</td>\n",
       "      <td>14.5</td>\n",
       "      <td>47.2784</td>\n",
       "      <td>0.32220</td>\n",
       "      <td>0.00010</td>\n",
       "      <td>893.0</td>\n",
       "      <td>1.9735</td>\n",
       "      <td>2.0041</td>\n",
       "      <td>1.9426</td>\n",
       "      <td>0.0615</td>\n",
       "      <td>32.089431</td>\n",
       "    </tr>\n",
       "    <tr>\n",
       "      <th>6</th>\n",
       "      <td>60</td>\n",
       "      <td>40</td>\n",
       "      <td>36</td>\n",
       "      <td>14.5</td>\n",
       "      <td>38.8104</td>\n",
       "      <td>0.40280</td>\n",
       "      <td>0.00008</td>\n",
       "      <td>872.2</td>\n",
       "      <td>1.9776</td>\n",
       "      <td>2.0106</td>\n",
       "      <td>1.9447</td>\n",
       "      <td>0.0659</td>\n",
       "      <td>30.009105</td>\n",
       "    </tr>\n",
       "    <tr>\n",
       "      <th>7</th>\n",
       "      <td>70</td>\n",
       "      <td>30</td>\n",
       "      <td>33</td>\n",
       "      <td>15.0</td>\n",
       "      <td>36.2491</td>\n",
       "      <td>0.45450</td>\n",
       "      <td>0.00006</td>\n",
       "      <td>851.4</td>\n",
       "      <td>1.9800</td>\n",
       "      <td>2.0134</td>\n",
       "      <td>1.9451</td>\n",
       "      <td>0.0683</td>\n",
       "      <td>28.989751</td>\n",
       "    </tr>\n",
       "    <tr>\n",
       "      <th>8</th>\n",
       "      <td>80</td>\n",
       "      <td>20</td>\n",
       "      <td>24</td>\n",
       "      <td>13.5</td>\n",
       "      <td>27.5363</td>\n",
       "      <td>0.56250</td>\n",
       "      <td>0.00004</td>\n",
       "      <td>830.6</td>\n",
       "      <td>1.9860</td>\n",
       "      <td>2.0225</td>\n",
       "      <td>1.9499</td>\n",
       "      <td>0.0726</td>\n",
       "      <td>27.355372</td>\n",
       "    </tr>\n",
       "    <tr>\n",
       "      <th>9</th>\n",
       "      <td>90</td>\n",
       "      <td>10</td>\n",
       "      <td>18</td>\n",
       "      <td>12.5</td>\n",
       "      <td>21.9146</td>\n",
       "      <td>0.69440</td>\n",
       "      <td>0.00002</td>\n",
       "      <td>809.8</td>\n",
       "      <td>1.9920</td>\n",
       "      <td>2.0301</td>\n",
       "      <td>1.9536</td>\n",
       "      <td>0.0765</td>\n",
       "      <td>26.039216</td>\n",
       "    </tr>\n",
       "    <tr>\n",
       "      <th>10</th>\n",
       "      <td>100</td>\n",
       "      <td>0</td>\n",
       "      <td>10</td>\n",
       "      <td>8.5</td>\n",
       "      <td>13.1244</td>\n",
       "      <td>0.85000</td>\n",
       "      <td>0.00000</td>\n",
       "      <td>789.0</td>\n",
       "      <td>1.9970</td>\n",
       "      <td>2.0347</td>\n",
       "      <td>1.9557</td>\n",
       "      <td>0.0790</td>\n",
       "      <td>25.278481</td>\n",
       "    </tr>\n",
       "  </tbody>\n",
       "</table>\n",
       "</div>"
      ],
      "text/plain": [
       "    ethanol  water  e'   e''  permittivity  loss tangent  bulk conductivity  \\\n",
       "0         0    100  78   7.5       78.3597       0.09615            0.00200   \n",
       "1        10     90  73   9.0       73.5527       0.12330            0.00018   \n",
       "2        20     80  66  12.0       67.0820       0.18180            0.00016   \n",
       "3        30     70  61  13.5       62.4760       0.22130            0.00014   \n",
       "4        40     60  53  14.0       54.8170       0.26410            0.00012   \n",
       "5        50     50  45  14.5       47.2784       0.32220            0.00010   \n",
       "6        60     40  36  14.5       38.8104       0.40280            0.00008   \n",
       "7        70     30  33  15.0       36.2491       0.45450            0.00006   \n",
       "8        80     20  24  13.5       27.5363       0.56250            0.00004   \n",
       "9        90     10  18  12.5       21.9146       0.69440            0.00002   \n",
       "10      100      0  10   8.5       13.1244       0.85000            0.00000   \n",
       "\n",
       "    mass density  resonance frequency      f2      f1  3dB bandwidth  \\\n",
       "0          997.0               1.9620  1.9855  1.9381         0.0474   \n",
       "1          976.2               1.9627  1.9874  1.9381         0.0493   \n",
       "2          955.4               1.9650  1.9898  1.9372         0.0526   \n",
       "3          934.6               1.9660  1.9938  1.9387         0.0551   \n",
       "4          913.8               1.9700  1.9977  1.9401         0.0576   \n",
       "5          893.0               1.9735  2.0041  1.9426         0.0615   \n",
       "6          872.2               1.9776  2.0106  1.9447         0.0659   \n",
       "7          851.4               1.9800  2.0134  1.9451         0.0683   \n",
       "8          830.6               1.9860  2.0225  1.9499         0.0726   \n",
       "9          809.8               1.9920  2.0301  1.9536         0.0765   \n",
       "10         789.0               1.9970  2.0347  1.9557         0.0790   \n",
       "\n",
       "     Q factor  \n",
       "0   41.392405  \n",
       "1   39.811359  \n",
       "2   37.357414  \n",
       "3   35.680581  \n",
       "4   34.201389  \n",
       "5   32.089431  \n",
       "6   30.009105  \n",
       "7   28.989751  \n",
       "8   27.355372  \n",
       "9   26.039216  \n",
       "10  25.278481  "
      ]
     },
     "execution_count": 12,
     "metadata": {},
     "output_type": "execute_result"
    }
   ],
   "source": [
    "df #Lets take a look at our data"
   ]
  },
  {
   "cell_type": "markdown",
   "metadata": {},
   "source": [
    "* Creating lists of required features which we will train our model on and also target values that we have to predict.\n",
    "* Storing target columns in separate variables y1 and y2.\n",
    "* Extracting only required features from dataframe 'df' and storing it in variable 'data'."
   ]
  },
  {
   "cell_type": "code",
   "execution_count": 3,
   "metadata": {},
   "outputs": [],
   "source": [
    "features = [\"resonance frequency\",\"Q factor\"]\n",
    "targets = [\"e\\'\",\"e\\\"\"]"
   ]
  },
  {
   "cell_type": "code",
   "execution_count": 18,
   "metadata": {},
   "outputs": [],
   "source": [
    "y1 = df[\"e\\'\"]\n",
    "y2 = df[\"e''\"]"
   ]
  },
  {
   "cell_type": "code",
   "execution_count": 20,
   "metadata": {},
   "outputs": [],
   "source": [
    "data = df[features]"
   ]
  },
  {
   "cell_type": "markdown",
   "metadata": {},
   "source": [
    "## 3. Input the Values (Test Data)"
   ]
  },
  {
   "cell_type": "code",
   "execution_count": 21,
   "metadata": {},
   "outputs": [
    {
     "name": "stdout",
     "output_type": "stream",
     "text": [
      "Enter the value of f =1.9970\n",
      "Enter the value of Q =25.278481\n"
     ]
    }
   ],
   "source": [
    "f = float(input('Enter the value of f ='))\n",
    "Q = float(input('Enter the value of Q ='))"
   ]
  },
  {
   "cell_type": "markdown",
   "metadata": {},
   "source": [
    "## 4. Model Training and Prediction\n",
    "\n",
    "*PolynomialFeatures(degree=N)*\n",
    "\n",
    "Generate a new feature matrix consisting of all polynomial combinations of the features with degree less than or equal to the specified degree. For example, if an input sample is two dimensional and of the form [a, b], the degree-2 polynomial features are [1, a, b, a^2, ab, b^2].\n",
    "\n",
    "So, Basically it creates an array of array of [1, a, b, a^2, ab, b^2] for each data points, where a and b in our case is f and Q respectively."
   ]
  },
  {
   "cell_type": "code",
   "execution_count": 22,
   "metadata": {},
   "outputs": [],
   "source": [
    "poly = PolynomialFeatures(degree=2)\n",
    "poly_variables = poly.fit_transform(data.values)\n",
    "\n",
    "regression = linear_model.LinearRegression()\n",
    "model = regression.fit(poly_variables, y1.values)"
   ]
  },
  {
   "cell_type": "code",
   "execution_count": 23,
   "metadata": {},
   "outputs": [
    {
     "name": "stdout",
     "output_type": "stream",
     "text": [
      "predicted value of e' = 10.40106539183762\n"
     ]
    }
   ],
   "source": [
    "test_var = poly.fit_transform([[f,Q]])\n",
    "pred = model.predict(test_var)\n",
    "print(\"predicted value of e' = \"+str(pred[0]))"
   ]
  },
  {
   "cell_type": "code",
   "execution_count": 24,
   "metadata": {},
   "outputs": [],
   "source": [
    "poly = PolynomialFeatures(degree=2)\n",
    "poly_variables = poly.fit_transform(data.values)\n",
    "\n",
    "model = regression.fit(poly_variables, y2.values)"
   ]
  },
  {
   "cell_type": "code",
   "execution_count": 25,
   "metadata": {},
   "outputs": [
    {
     "name": "stdout",
     "output_type": "stream",
     "text": [
      "predicted value of e\" = 8.784853350254707\n"
     ]
    }
   ],
   "source": [
    "test_var = poly.fit_transform([[f,Q]])\n",
    "pred = model.predict(test_var)\n",
    "print(\"predicted value of e\\\" = \"+str(pred[0]))"
   ]
  }
 ],
 "metadata": {
  "kernelspec": {
   "display_name": "Python 3",
   "language": "python",
   "name": "python3"
  },
  "language_info": {
   "codemirror_mode": {
    "name": "ipython",
    "version": 3
   },
   "file_extension": ".py",
   "mimetype": "text/x-python",
   "name": "python",
   "nbconvert_exporter": "python",
   "pygments_lexer": "ipython3",
   "version": "3.7.6"
  }
 },
 "nbformat": 4,
 "nbformat_minor": 4
}
